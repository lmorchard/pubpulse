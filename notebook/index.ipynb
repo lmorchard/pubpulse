{
 "cells": [
  {
   "cell_type": "markdown",
   "id": "25c4307a-bdb5-4a29-9527-4625fd7ad19a",
   "metadata": {
    "editable": true,
    "slideshow": {
     "slide_type": ""
    },
    "tags": []
   },
   "source": [
    "# PubPulse laboratory"
   ]
  },
  {
   "cell_type": "markdown",
   "id": "b3528b59-bc2a-4438-b033-a8b011d0e616",
   "metadata": {
    "editable": true,
    "slideshow": {
     "slide_type": ""
    },
    "tags": []
   },
   "source": [
    "First, a little setup to use the database (output hidden, because it's noisy):"
   ]
  },
  {
   "cell_type": "code",
   "execution_count": 11,
   "id": "32f0cf83-5585-4c55-adf2-2d9745cae884",
   "metadata": {
    "editable": true,
    "scrolled": true,
    "slideshow": {
     "slide_type": ""
    },
    "tags": [
     "hide-output"
    ]
   },
   "outputs": [],
   "source": [
    "%%capture\n",
    "!pip install psycopg2-binary\n",
    "!pip install ipython-sql\n",
    "%load_ext sql\n",
    "%sql $DATABASE_URL"
   ]
  },
  {
   "cell_type": "markdown",
   "id": "cf9d50c8-9fab-4e5b-b502-ae41454957c0",
   "metadata": {
    "editable": true,
    "slideshow": {
     "slide_type": ""
    },
    "tags": []
   },
   "source": [
    "Next, let's peek inside the database at the latest 5 statuses:"
   ]
  },
  {
   "cell_type": "code",
   "execution_count": 34,
   "id": "5b279b93-6db0-4de0-baae-79330be6f70e",
   "metadata": {
    "editable": true,
    "slideshow": {
     "slide_type": ""
    },
    "tags": []
   },
   "outputs": [
    {
     "name": "stdout",
     "output_type": "stream",
     "text": [
      " * postgresql://postgres:***@db:5432/example\n",
      "5 rows affected.\n"
     ]
    },
    {
     "data": {
      "text/html": [
       "<table>\n",
       "    <thead>\n",
       "        <tr>\n",
       "            <th>created_at</th>\n",
       "            <th>acct</th>\n",
       "            <th>url</th>\n",
       "        </tr>\n",
       "    </thead>\n",
       "    <tbody>\n",
       "        <tr>\n",
       "            <td>2024-03-23T17:38:23+00:00</td>\n",
       "            <td>espn@flipboard.com</td>\n",
       "            <td>https://flipboard.com/@espn/headlines-7ulb4v5fz/-/a-hP1aEu8KShaZoP1ysaWqsQ%3Aa%3A3195382-%2F0</td>\n",
       "        </tr>\n",
       "        <tr>\n",
       "            <td>2024-03-23T17:11:41+00:00</td>\n",
       "            <td>espn@flipboard.com</td>\n",
       "            <td>https://flipboard.com/@espn/headlines-7ulb4v5fz/-/a-Uhh-eNljRa6zPP0L_54g7w%3Aa%3A3195382-%2F0</td>\n",
       "        </tr>\n",
       "        <tr>\n",
       "            <td>2024-03-23T17:00:44.488000+00:00</td>\n",
       "            <td>smashjump</td>\n",
       "            <td>https://mastodon.social/@smashjump/112146071190684675</td>\n",
       "        </tr>\n",
       "        <tr>\n",
       "            <td>2024-03-23T17:00:43+00:00</td>\n",
       "            <td>ashwells@chrisduffley.com</td>\n",
       "            <td>https://mastodon.chrisduffley.com/@ashwells/112146071121058491</td>\n",
       "        </tr>\n",
       "        <tr>\n",
       "            <td>2024-03-23T17:00:42.040000+00:00</td>\n",
       "            <td>purrmitivebot</td>\n",
       "            <td>https://mastodon.social/@purrmitivebot/112146071030167228</td>\n",
       "        </tr>\n",
       "    </tbody>\n",
       "</table>"
      ],
      "text/plain": [
       "[('2024-03-23T17:38:23+00:00', 'espn@flipboard.com', 'https://flipboard.com/@espn/headlines-7ulb4v5fz/-/a-hP1aEu8KShaZoP1ysaWqsQ%3Aa%3A3195382-%2F0'),\n",
       " ('2024-03-23T17:11:41+00:00', 'espn@flipboard.com', 'https://flipboard.com/@espn/headlines-7ulb4v5fz/-/a-Uhh-eNljRa6zPP0L_54g7w%3Aa%3A3195382-%2F0'),\n",
       " ('2024-03-23T17:00:44.488000+00:00', 'smashjump', 'https://mastodon.social/@smashjump/112146071190684675'),\n",
       " ('2024-03-23T17:00:43+00:00', 'ashwells@chrisduffley.com', 'https://mastodon.chrisduffley.com/@ashwells/112146071121058491'),\n",
       " ('2024-03-23T17:00:42.040000+00:00', 'purrmitivebot', 'https://mastodon.social/@purrmitivebot/112146071030167228')]"
      ]
     },
     "execution_count": 34,
     "metadata": {},
     "output_type": "execute_result"
    }
   ],
   "source": [
    "%%sql\n",
    "SELECT\n",
    "    status->>'created_at' as created_at,\n",
    "    status->'account'->>'acct' as acct,\n",
    "    url\n",
    "FROM statuses\n",
    "ORDER BY created_at DESC\n",
    "LIMIT 5;"
   ]
  },
  {
   "cell_type": "code",
   "execution_count": null,
   "id": "91f5a86a-ddb4-4ce6-bb5f-4e39996827e6",
   "metadata": {
    "editable": true,
    "slideshow": {
     "slide_type": ""
    },
    "tags": []
   },
   "outputs": [],
   "source": []
  }
 ],
 "metadata": {
  "kernelspec": {
   "display_name": "Python 3 (ipykernel)",
   "language": "python",
   "name": "python3"
  },
  "language_info": {
   "codemirror_mode": {
    "name": "ipython",
    "version": 3
   },
   "file_extension": ".py",
   "mimetype": "text/x-python",
   "name": "python",
   "nbconvert_exporter": "python",
   "pygments_lexer": "ipython3",
   "version": "3.11.8"
  }
 },
 "nbformat": 4,
 "nbformat_minor": 5
}
