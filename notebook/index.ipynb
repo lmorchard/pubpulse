{
 "cells": [
  {
   "cell_type": "markdown",
   "id": "25c4307a-bdb5-4a29-9527-4625fd7ad19a",
   "metadata": {
    "editable": true,
    "slideshow": {
     "slide_type": ""
    },
    "tags": []
   },
   "source": [
    "# PubPulse laboratory"
   ]
  },
  {
   "cell_type": "markdown",
   "id": "b3528b59-bc2a-4438-b033-a8b011d0e616",
   "metadata": {
    "editable": true,
    "slideshow": {
     "slide_type": ""
    },
    "tags": []
   },
   "source": [
    "First, a little setup to use the database (output hidden, because it's noisy):"
   ]
  },
  {
   "cell_type": "code",
   "execution_count": null,
   "id": "32f0cf83-5585-4c55-adf2-2d9745cae884",
   "metadata": {
    "editable": true,
    "scrolled": true,
    "slideshow": {
     "slide_type": ""
    },
    "tags": [
     "hide-output"
    ]
   },
   "outputs": [],
   "source": [
    "%%capture\n",
    "!pip install psycopg2-binary\n",
    "!pip install ipython-sql\n",
    "!pip install -U sentence-transformers\n",
    "!pip install SQLAlchemy --quiet\n",
    "\n",
    "%load_ext sql\n",
    "%sql $DATABASE_URL\n",
    "\n",
    "import sys\n",
    "sys.path.append('/app')"
   ]
  },
  {
   "cell_type": "markdown",
   "id": "cf9d50c8-9fab-4e5b-b502-ae41454957c0",
   "metadata": {
    "editable": true,
    "slideshow": {
     "slide_type": ""
    },
    "tags": []
   },
   "source": [
    "Next, let's peek inside the database:"
   ]
  },
  {
   "cell_type": "code",
   "execution_count": null,
   "id": "4ea169b9-4bbf-478f-a55f-ca083d685470",
   "metadata": {},
   "outputs": [],
   "source": [
    "%%sql\n",
    "SELECT count(*)\n",
    "FROM statuses"
   ]
  },
  {
   "cell_type": "code",
   "execution_count": null,
   "id": "5b279b93-6db0-4de0-baae-79330be6f70e",
   "metadata": {
    "editable": true,
    "slideshow": {
     "slide_type": ""
    },
    "tags": []
   },
   "outputs": [],
   "source": [
    "%%sql\n",
    "SELECT\n",
    "    ingested_at,\n",
    "    status->>'created_at' as created_at,\n",
    "    status->'account'->>'acct' as acct,\n",
    "    url\n",
    "FROM statuses\n",
    "ORDER BY ingested_at DESC\n",
    "LIMIT 5;"
   ]
  },
  {
   "cell_type": "code",
   "execution_count": null,
   "id": "774f6e2a-e10d-41c0-bb43-f3c75890065d",
   "metadata": {},
   "outputs": [],
   "source": [
    "%%sql\n",
    "select  \n",
    "    status->>'created_at' as created_at,\n",
    "    status->'account'->>'acct' as acct,\n",
    "    url\n",
    "from statuses\n",
    "where url='https://mefi.social/@rodneylives/112148538695972876'"
   ]
  },
  {
   "cell_type": "code",
   "execution_count": null,
   "id": "dc75ba40-976f-4487-a514-e52eac7f14b5",
   "metadata": {},
   "outputs": [],
   "source": [
    "import os\n",
    "from sqlalchemy import create_engine\n",
    "from sqlalchemy.orm import Session\n",
    "import pandas as pd \n",
    "\n",
    "engine = create_engine(os.environ[\"DATABASE_URL\"])\n",
    "sql_df = pd.read_sql( \n",
    "    \"SELECT * FROM statuses LIMIT 5\", \n",
    "    con=engine \n",
    ") \n",
    "  \n",
    "print(sql_df) "
   ]
  },
  {
   "cell_type": "code",
   "execution_count": null,
   "id": "f433121f-50c2-4b8b-81b7-4c1463919b01",
   "metadata": {},
   "outputs": [],
   "source": [
    "from sqlalchemy.sql import text\n",
    "with engine.connect() as conn:\n",
    "    stmt = text(\"\"\"\n",
    "        SELECT\n",
    "            ingested_at,\n",
    "            url,\n",
    "            status->>'created_at' as created_at,\n",
    "            status->'account'->>'acct' as acct,\n",
    "            status->>'content' as content\n",
    "        FROM statuses\n",
    "        ORDER BY ingested_at DESC\n",
    "        LIMIT 500;\n",
    "    \"\"\")\n",
    "    result = conn.execute(stmt)\n",
    "    \n",
    "from collections import namedtuple\n",
    "\n",
    "Record = namedtuple('Record', result.keys())\n",
    "records = [Record(*r) for r in result.fetchall()]\n",
    "\n",
    "texts = [r.content for r in records if r.content]\n",
    "\n",
    "len(texts)"
   ]
  },
  {
   "cell_type": "code",
   "execution_count": null,
   "id": "51a0efcb-dd9e-44da-adcf-9ab441d7eb64",
   "metadata": {},
   "outputs": [],
   "source": [
    "\"\"\"\n",
    "model_id = \"sentence-transformers/all-MiniLM-L6-v2\"\n",
    "hf_token = os.environ[\"HF_TOKEN\"]\n",
    "\n",
    "import requests\n",
    "\n",
    "api_url = f\"https://api-inference.huggingface.co/pipeline/feature-extraction/{model_id}\"\n",
    "headers = {\"Authorization\": f\"Bearer {hf_token}\"}\n",
    "\n",
    "def query(texts):\n",
    "    response = requests.post(api_url, headers=headers, json={\"inputs\": texts, \"options\":{\"wait_for_model\":True}})\n",
    "    return response.json()\n",
    "\n",
    "output = query(texts)\n",
    "\n",
    "import pandas as pd\n",
    "embeddings = pd.DataFrame(output)\n",
    "embeddings\n",
    "\"\"\""
   ]
  },
  {
   "cell_type": "code",
   "execution_count": null,
   "id": "a657a35a-b86a-4013-8021-b939279d5e28",
   "metadata": {},
   "outputs": [],
   "source": [
    "from sentence_transformers import SentenceTransformer\n",
    "\n",
    "model = SentenceTransformer('sentence-transformers/all-MiniLM-L6-v2')\n",
    "embeddings = model.encode(texts)\n",
    "\n",
    "import pandas as pd\n",
    "embeddings_pd = pd.DataFrame(embeddings)\n",
    "embeddings_pd"
   ]
  },
  {
   "cell_type": "code",
   "execution_count": null,
   "id": "cd5c493c-5fae-46c2-a048-70919ae7e80c",
   "metadata": {},
   "outputs": [],
   "source": []
  }
 ],
 "metadata": {
  "kernelspec": {
   "display_name": "Python 3 (ipykernel)",
   "language": "python",
   "name": "python3"
  },
  "language_info": {
   "codemirror_mode": {
    "name": "ipython",
    "version": 3
   },
   "file_extension": ".py",
   "mimetype": "text/x-python",
   "name": "python",
   "nbconvert_exporter": "python",
   "pygments_lexer": "ipython3",
   "version": "3.11.8"
  }
 },
 "nbformat": 4,
 "nbformat_minor": 5
}
