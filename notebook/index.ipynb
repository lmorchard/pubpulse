{
 "cells": [
  {
   "cell_type": "markdown",
   "id": "25c4307a-bdb5-4a29-9527-4625fd7ad19a",
   "metadata": {
    "editable": true,
    "slideshow": {
     "slide_type": ""
    },
    "tags": []
   },
   "source": [
    "# PubPulse laboratory"
   ]
  },
  {
   "cell_type": "markdown",
   "id": "b3528b59-bc2a-4438-b033-a8b011d0e616",
   "metadata": {
    "editable": true,
    "slideshow": {
     "slide_type": ""
    },
    "tags": []
   },
   "source": [
    "First, a little setup to use the database (output hidden, because it's noisy):"
   ]
  },
  {
   "cell_type": "code",
   "execution_count": null,
   "id": "d8ede6cc-42cd-4a81-85e0-29b4fa1b3591",
   "metadata": {
    "editable": true,
    "scrolled": true,
    "slideshow": {
     "slide_type": ""
    },
    "tags": [
     "hide-output"
    ]
   },
   "outputs": [],
   "source": [
    "%%capture\n",
    "!pip install psycopg2-binary\n",
    "!pip install ipython-sql\n",
    "!pip install -U sentence-transformers\n",
    "!pip install SQLAlchemy --quiet\n",
    "!pip install pgvector\n",
    "!pip install tqdm"
   ]
  },
  {
   "cell_type": "code",
   "execution_count": 2,
   "id": "d2e74200-5c8a-4e41-ac58-8bac73989f60",
   "metadata": {
    "editable": true,
    "scrolled": true,
    "slideshow": {
     "slide_type": ""
    },
    "tags": [
     "hide-output"
    ]
   },
   "outputs": [],
   "source": [
    "%load_ext sql\n",
    "%sql $DATABASE_URL"
   ]
  },
  {
   "cell_type": "code",
   "execution_count": 3,
   "id": "76bba78b-0d57-4724-8502-001579577d09",
   "metadata": {
    "editable": true,
    "scrolled": true,
    "slideshow": {
     "slide_type": ""
    },
    "tags": [
     "hide-output"
    ]
   },
   "outputs": [],
   "source": [
    "import sys\n",
    "sys.path.append('/app')"
   ]
  },
  {
   "cell_type": "markdown",
   "id": "cf9d50c8-9fab-4e5b-b502-ae41454957c0",
   "metadata": {
    "editable": true,
    "slideshow": {
     "slide_type": ""
    },
    "tags": []
   },
   "source": [
    "How many statuses have we ingested so far?"
   ]
  },
  {
   "cell_type": "code",
   "execution_count": 19,
   "id": "4ea169b9-4bbf-478f-a55f-ca083d685470",
   "metadata": {},
   "outputs": [
    {
     "name": "stdout",
     "output_type": "stream",
     "text": [
      " * postgresql://postgres:***@db:5432/example\n",
      "1 rows affected.\n"
     ]
    },
    {
     "data": {
      "text/html": [
       "<table>\n",
       "    <thead>\n",
       "        <tr>\n",
       "            <th>count</th>\n",
       "        </tr>\n",
       "    </thead>\n",
       "    <tbody>\n",
       "        <tr>\n",
       "            <td>187778</td>\n",
       "        </tr>\n",
       "    </tbody>\n",
       "</table>"
      ],
      "text/plain": [
       "[(187778,)]"
      ]
     },
     "execution_count": 19,
     "metadata": {},
     "output_type": "execute_result"
    }
   ],
   "source": [
    "%%sql\n",
    "SELECT count(*)\n",
    "FROM statuses"
   ]
  },
  {
   "cell_type": "markdown",
   "id": "5130e998-f2d5-44e1-a9ab-6e54b1043602",
   "metadata": {},
   "source": [
    "Let's take a look at the latest posts ingested:"
   ]
  },
  {
   "cell_type": "code",
   "execution_count": 25,
   "id": "5b279b93-6db0-4de0-baae-79330be6f70e",
   "metadata": {
    "editable": true,
    "slideshow": {
     "slide_type": ""
    },
    "tags": []
   },
   "outputs": [
    {
     "name": "stdout",
     "output_type": "stream",
     "text": [
      " * postgresql://postgres:***@db:5432/example\n",
      "5 rows affected.\n"
     ]
    },
    {
     "data": {
      "text/html": [
       "<table>\n",
       "    <thead>\n",
       "        <tr>\n",
       "            <th>url</th>\n",
       "            <th>ingested_at</th>\n",
       "            <th>created_at</th>\n",
       "            <th>acct</th>\n",
       "        </tr>\n",
       "    </thead>\n",
       "    <tbody>\n",
       "        <tr>\n",
       "            <td>https://mstdn.social/@hkrn/112153459094121265</td>\n",
       "            <td>2024-03-25 00:19:34.353786+00:00</td>\n",
       "            <td>2024-03-25T00:19:34+00:00</td>\n",
       "            <td>hkrn@mstdn.social</td>\n",
       "        </tr>\n",
       "        <tr>\n",
       "            <td>https://mstdn.dk/@Hovedorganet/112153459067270187</td>\n",
       "            <td>2024-03-25 00:19:34.184111+00:00</td>\n",
       "            <td>2024-03-25T00:19:34+00:00</td>\n",
       "            <td>Hovedorganet@mstdn.dk</td>\n",
       "        </tr>\n",
       "        <tr>\n",
       "            <td>https://social.edist.ro/@nws_oun/112153459003844977</td>\n",
       "            <td>2024-03-25 00:19:32.668426+00:00</td>\n",
       "            <td>2024-03-25T00:19:33+00:00</td>\n",
       "            <td>nws_oun@social.edist.ro</td>\n",
       "        </tr>\n",
       "        <tr>\n",
       "            <td>https://mstdn.social/@hkrn/112153458720146348</td>\n",
       "            <td>2024-03-25 00:19:31.414036+00:00</td>\n",
       "            <td>2024-03-25T00:19:29+00:00</td>\n",
       "            <td>hkrn@mstdn.social</td>\n",
       "        </tr>\n",
       "        <tr>\n",
       "            <td>https://twitter.com/MenInBlazers/status/1772055141614596394</td>\n",
       "            <td>2024-03-25 00:19:29.830966+00:00</td>\n",
       "            <td>2024-03-25T00:17:23+00:00</td>\n",
       "            <td>MenInBlazers@sportsbots.xyz</td>\n",
       "        </tr>\n",
       "    </tbody>\n",
       "</table>"
      ],
      "text/plain": [
       "[('https://mstdn.social/@hkrn/112153459094121265', datetime.datetime(2024, 3, 25, 0, 19, 34, 353786, tzinfo=datetime.timezone.utc), '2024-03-25T00:19:34+00:00', 'hkrn@mstdn.social'),\n",
       " ('https://mstdn.dk/@Hovedorganet/112153459067270187', datetime.datetime(2024, 3, 25, 0, 19, 34, 184111, tzinfo=datetime.timezone.utc), '2024-03-25T00:19:34+00:00', 'Hovedorganet@mstdn.dk'),\n",
       " ('https://social.edist.ro/@nws_oun/112153459003844977', datetime.datetime(2024, 3, 25, 0, 19, 32, 668426, tzinfo=datetime.timezone.utc), '2024-03-25T00:19:33+00:00', 'nws_oun@social.edist.ro'),\n",
       " ('https://mstdn.social/@hkrn/112153458720146348', datetime.datetime(2024, 3, 25, 0, 19, 31, 414036, tzinfo=datetime.timezone.utc), '2024-03-25T00:19:29+00:00', 'hkrn@mstdn.social'),\n",
       " ('https://twitter.com/MenInBlazers/status/1772055141614596394', datetime.datetime(2024, 3, 25, 0, 19, 29, 830966, tzinfo=datetime.timezone.utc), '2024-03-25T00:17:23+00:00', 'MenInBlazers@sportsbots.xyz')]"
      ]
     },
     "execution_count": 25,
     "metadata": {},
     "output_type": "execute_result"
    }
   ],
   "source": [
    "%%sql\n",
    "SELECT\n",
    "    url,\n",
    "    ingested_at,\n",
    "    status->>'created_at' as created_at,\n",
    "    status->'account'->>'acct' as acct\n",
    "FROM statuses\n",
    "ORDER BY ingested_at DESC\n",
    "LIMIT 5;"
   ]
  },
  {
   "cell_type": "markdown",
   "id": "c0bbf539-0897-411c-97de-451d8a9e90eb",
   "metadata": {},
   "source": [
    "Try fetching the latest posts using python:"
   ]
  },
  {
   "cell_type": "code",
   "execution_count": 26,
   "id": "dc75ba40-976f-4487-a514-e52eac7f14b5",
   "metadata": {},
   "outputs": [
    {
     "data": {
      "text/html": [
       "<div>\n",
       "<style scoped>\n",
       "    .dataframe tbody tr th:only-of-type {\n",
       "        vertical-align: middle;\n",
       "    }\n",
       "\n",
       "    .dataframe tbody tr th {\n",
       "        vertical-align: top;\n",
       "    }\n",
       "\n",
       "    .dataframe thead th {\n",
       "        text-align: right;\n",
       "    }\n",
       "</style>\n",
       "<table border=\"1\" class=\"dataframe\">\n",
       "  <thead>\n",
       "    <tr style=\"text-align: right;\">\n",
       "      <th></th>\n",
       "      <th>url</th>\n",
       "      <th>ingested_at</th>\n",
       "      <th>created_at</th>\n",
       "      <th>acct</th>\n",
       "    </tr>\n",
       "  </thead>\n",
       "  <tbody>\n",
       "    <tr>\n",
       "      <th>0</th>\n",
       "      <td>https://nya.one/notes/9r9rm33zeuix37ud</td>\n",
       "      <td>2024-03-25 00:19:35.399339+00:00</td>\n",
       "      <td>2024-03-25T00:19:35.615000+00:00</td>\n",
       "      <td>Samukawa_Shion@nya.one</td>\n",
       "    </tr>\n",
       "    <tr>\n",
       "      <th>1</th>\n",
       "      <td>https://mstdn.social/@hkrn/112153459094121265</td>\n",
       "      <td>2024-03-25 00:19:34.353786+00:00</td>\n",
       "      <td>2024-03-25T00:19:34+00:00</td>\n",
       "      <td>hkrn@mstdn.social</td>\n",
       "    </tr>\n",
       "    <tr>\n",
       "      <th>2</th>\n",
       "      <td>https://mstdn.dk/@Hovedorganet/112153459067270187</td>\n",
       "      <td>2024-03-25 00:19:34.184111+00:00</td>\n",
       "      <td>2024-03-25T00:19:34+00:00</td>\n",
       "      <td>Hovedorganet@mstdn.dk</td>\n",
       "    </tr>\n",
       "    <tr>\n",
       "      <th>3</th>\n",
       "      <td>https://social.edist.ro/@nws_oun/1121534590038...</td>\n",
       "      <td>2024-03-25 00:19:32.668426+00:00</td>\n",
       "      <td>2024-03-25T00:19:33+00:00</td>\n",
       "      <td>nws_oun@social.edist.ro</td>\n",
       "    </tr>\n",
       "    <tr>\n",
       "      <th>4</th>\n",
       "      <td>https://mstdn.social/@hkrn/112153458720146348</td>\n",
       "      <td>2024-03-25 00:19:31.414036+00:00</td>\n",
       "      <td>2024-03-25T00:19:29+00:00</td>\n",
       "      <td>hkrn@mstdn.social</td>\n",
       "    </tr>\n",
       "  </tbody>\n",
       "</table>\n",
       "</div>"
      ],
      "text/plain": [
       "                                                 url  \\\n",
       "0             https://nya.one/notes/9r9rm33zeuix37ud   \n",
       "1      https://mstdn.social/@hkrn/112153459094121265   \n",
       "2  https://mstdn.dk/@Hovedorganet/112153459067270187   \n",
       "3  https://social.edist.ro/@nws_oun/1121534590038...   \n",
       "4      https://mstdn.social/@hkrn/112153458720146348   \n",
       "\n",
       "                       ingested_at                        created_at  \\\n",
       "0 2024-03-25 00:19:35.399339+00:00  2024-03-25T00:19:35.615000+00:00   \n",
       "1 2024-03-25 00:19:34.353786+00:00         2024-03-25T00:19:34+00:00   \n",
       "2 2024-03-25 00:19:34.184111+00:00         2024-03-25T00:19:34+00:00   \n",
       "3 2024-03-25 00:19:32.668426+00:00         2024-03-25T00:19:33+00:00   \n",
       "4 2024-03-25 00:19:31.414036+00:00         2024-03-25T00:19:29+00:00   \n",
       "\n",
       "                      acct  \n",
       "0   Samukawa_Shion@nya.one  \n",
       "1        hkrn@mstdn.social  \n",
       "2    Hovedorganet@mstdn.dk  \n",
       "3  nws_oun@social.edist.ro  \n",
       "4        hkrn@mstdn.social  "
      ]
     },
     "execution_count": 26,
     "metadata": {},
     "output_type": "execute_result"
    }
   ],
   "source": [
    "import os\n",
    "from sqlalchemy import create_engine\n",
    "from sqlalchemy.orm import Session\n",
    "import pandas as pd \n",
    "\n",
    "engine = create_engine(os.environ[\"DATABASE_URL\"])\n",
    "sql_df = pd.read_sql( \n",
    "    \"\"\"\n",
    "        SELECT\n",
    "            url,\n",
    "            ingested_at,\n",
    "            status->>'created_at' as created_at,\n",
    "            status->'account'->>'acct' as acct\n",
    "        FROM statuses\n",
    "        ORDER BY ingested_at DESC\n",
    "        LIMIT 5;\n",
    "    \"\"\", \n",
    "    con=engine \n",
    ") \n",
    "sql_df"
   ]
  },
  {
   "cell_type": "code",
   "execution_count": 7,
   "id": "f433121f-50c2-4b8b-81b7-4c1463919b01",
   "metadata": {},
   "outputs": [
    {
     "data": {
      "text/plain": [
       "483"
      ]
     },
     "execution_count": 7,
     "metadata": {},
     "output_type": "execute_result"
    }
   ],
   "source": [
    "from sqlalchemy.sql import text\n",
    "from sqlalchemy import create_engine\n",
    "\n",
    "engine = create_engine(os.environ[\"DATABASE_URL\"])\n",
    "\n",
    "with engine.connect() as conn:\n",
    "    stmt = text(\"\"\"\n",
    "        SELECT\n",
    "            ingested_at,\n",
    "            url,\n",
    "            status->>'created_at' as created_at,\n",
    "            status->'account'->>'acct' as acct,\n",
    "            status->>'content' as content\n",
    "        FROM statuses\n",
    "        ORDER BY ingested_at DESC\n",
    "        LIMIT 500;\n",
    "    \"\"\")\n",
    "    result = conn.execute(stmt)\n",
    "    \n",
    "from collections import namedtuple\n",
    "\n",
    "Record = namedtuple('Record', result.keys())\n",
    "records = [Record(*r) for r in result.fetchall()]\n",
    "\n",
    "texts = [r.content for r in records if r.content]\n",
    "\n",
    "len(texts)"
   ]
  },
  {
   "cell_type": "code",
   "execution_count": 8,
   "id": "51a0efcb-dd9e-44da-adcf-9ab441d7eb64",
   "metadata": {},
   "outputs": [
    {
     "data": {
      "text/plain": [
       "'\\nmodel_id = \"sentence-transformers/all-MiniLM-L6-v2\"\\nhf_token = os.environ[\"HF_TOKEN\"]\\n\\nimport requests\\n\\napi_url = f\"https://api-inference.huggingface.co/pipeline/feature-extraction/{model_id}\"\\nheaders = {\"Authorization\": f\"Bearer {hf_token}\"}\\n\\ndef query(texts):\\n    response = requests.post(api_url, headers=headers, json={\"inputs\": texts, \"options\":{\"wait_for_model\":True}})\\n    return response.json()\\n\\noutput = query(texts)\\n\\nimport pandas as pd\\nembeddings = pd.DataFrame(output)\\nembeddings\\n'"
      ]
     },
     "execution_count": 8,
     "metadata": {},
     "output_type": "execute_result"
    }
   ],
   "source": [
    "\"\"\"\n",
    "model_id = \"sentence-transformers/all-MiniLM-L6-v2\"\n",
    "hf_token = os.environ[\"HF_TOKEN\"]\n",
    "\n",
    "import requests\n",
    "\n",
    "api_url = f\"https://api-inference.huggingface.co/pipeline/feature-extraction/{model_id}\"\n",
    "headers = {\"Authorization\": f\"Bearer {hf_token}\"}\n",
    "\n",
    "def query(texts):\n",
    "    response = requests.post(api_url, headers=headers, json={\"inputs\": texts, \"options\":{\"wait_for_model\":True}})\n",
    "    return response.json()\n",
    "\n",
    "output = query(texts)\n",
    "\n",
    "import pandas as pd\n",
    "embeddings = pd.DataFrame(output)\n",
    "embeddings\n",
    "\"\"\""
   ]
  },
  {
   "cell_type": "code",
   "execution_count": 30,
   "id": "a657a35a-b86a-4013-8021-b939279d5e28",
   "metadata": {},
   "outputs": [],
   "source": [
    "from sentence_transformers import SentenceTransformer\n",
    "embedding_model = SentenceTransformer('sentence-transformers/all-MiniLM-L6-v2')"
   ]
  },
  {
   "cell_type": "code",
   "execution_count": 31,
   "id": "cd5c493c-5fae-46c2-a048-70919ae7e80c",
   "metadata": {},
   "outputs": [],
   "source": [
    "import os\n",
    "import psycopg2\n",
    "\n",
    "conn = psycopg2.connect(os.environ[\"DATABASE_URL\"])\n",
    "\n",
    "cur = conn.cursor()\n",
    "cur.execute(\"CREATE EXTENSION IF NOT EXISTS vector\")\n",
    "cur.execute(\"DROP TABLE IF EXISTS embeddings\")\n",
    "cur.execute(\"\"\"\n",
    "CREATE TABLE IF NOT EXISTS embeddings(\n",
    "    id INTEGER,\n",
    "    url character varying NOT NULL UNIQUE,\n",
    "    embedding vector(384)\n",
    ")\n",
    "\"\"\")\n",
    "\n",
    "conn.commit()"
   ]
  },
  {
   "cell_type": "code",
   "execution_count": 28,
   "id": "74df6330-e10a-42c0-8128-39a540ad2609",
   "metadata": {},
   "outputs": [
    {
     "name": "stdout",
     "output_type": "stream",
     "text": [
      " * postgresql://postgres:***@db:5432/example\n",
      "0 rows affected.\n"
     ]
    },
    {
     "data": {
      "text/plain": [
       "[]"
      ]
     },
     "execution_count": 28,
     "metadata": {},
     "output_type": "execute_result"
    }
   ],
   "source": [
    "%%sql\n",
    "DELETE\n",
    "FROM embeddings\n",
    "WHERE 1=1"
   ]
  },
  {
   "cell_type": "markdown",
   "id": "7425a580-5b5e-4761-a683-acb45045fbab",
   "metadata": {},
   "source": [
    "Try generating and storing embedding vectors for the latest bunch of statuses:"
   ]
  },
  {
   "cell_type": "code",
   "execution_count": 62,
   "id": "483648dc-ea29-45c7-8c9c-2c2df06d3cce",
   "metadata": {},
   "outputs": [
    {
     "data": {
      "application/vnd.jupyter.widget-view+json": {
       "model_id": "3802b6ad4f024de9abf3cadcca6c8999",
       "version_major": 2,
       "version_minor": 0
      },
      "text/plain": [
       "  0%|          | 0/50000 [00:00<?, ?it/s]"
      ]
     },
     "metadata": {},
     "output_type": "display_data"
    }
   ],
   "source": [
    "from ipywidgets import IntProgress\n",
    "from IPython.display import display\n",
    "import time\n",
    "import os\n",
    "import numpy as np\n",
    "import pandas as pd\n",
    "import psycopg2\n",
    "from pgvector.psycopg2 import register_vector\n",
    "from tqdm.notebook import trange, tqdm\n",
    "\n",
    "conn = psycopg2.connect(os.environ[\"DATABASE_URL\"])\n",
    "register_vector(conn)\n",
    "\n",
    "cur = conn.cursor()\n",
    "cur.execute(\"\"\"\n",
    "    SELECT\n",
    "        url,\n",
    "        status->>'content' as content\n",
    "    FROM statuses\n",
    "    ORDER BY ingested_at DESC\n",
    "    LIMIT 50000\n",
    "\"\"\")\n",
    "\n",
    "CHUNK_SIZE = 100\n",
    "chunks = []\n",
    "\n",
    "for row in tqdm(cur, total=cur.rowcount):\n",
    "    chunks.append((row[0], row[1]))\n",
    "\n",
    "    if len(chunks) >= CHUNK_SIZE:    \n",
    "        urls = [c[0] for c in chunks]\n",
    "        embeddings = model.encode([c[1] for c in chunks])\n",
    "        chunks = []\n",
    "\n",
    "        with conn:\n",
    "            with conn.cursor() as cur:\n",
    "                for idx in range(0, len(urls)):\n",
    "                    url = urls[idx]\n",
    "                    embedding = embeddings[idx]\n",
    "                    cur.execute(\n",
    "                        \"\"\"\n",
    "                            INSERT INTO embeddings (url, embedding) VALUES (%s, %s)\n",
    "                              ON CONFLICT (url) DO UPDATE SET embedding = EXCLUDED.embedding;            \n",
    "                        \"\"\",\n",
    "                        (url, embedding)\n",
    "                    )\n"
   ]
  },
  {
   "cell_type": "code",
   "execution_count": 54,
   "id": "c8615a2e-32d3-499a-8bf4-d2a5433a4ea7",
   "metadata": {},
   "outputs": [
    {
     "name": "stdout",
     "output_type": "stream",
     "text": [
      " * postgresql://postgres:***@db:5432/example\n",
      "1 rows affected.\n"
     ]
    },
    {
     "data": {
      "text/html": [
       "<table>\n",
       "    <thead>\n",
       "        <tr>\n",
       "            <th>count</th>\n",
       "        </tr>\n",
       "    </thead>\n",
       "    <tbody>\n",
       "        <tr>\n",
       "            <td>28959</td>\n",
       "        </tr>\n",
       "    </tbody>\n",
       "</table>"
      ],
      "text/plain": [
       "[(28959,)]"
      ]
     },
     "execution_count": 54,
     "metadata": {},
     "output_type": "execute_result"
    }
   ],
   "source": [
    "%%sql\n",
    "SELECT count(embedding)\n",
    "FROM embeddings"
   ]
  },
  {
   "cell_type": "code",
   "execution_count": 61,
   "id": "809c43b1-a737-4ba4-90b1-f041ffc7dd8c",
   "metadata": {},
   "outputs": [
    {
     "data": {
      "text/html": [
       "<div>\n",
       "<style scoped>\n",
       "    .dataframe tbody tr th:only-of-type {\n",
       "        vertical-align: middle;\n",
       "    }\n",
       "\n",
       "    .dataframe tbody tr th {\n",
       "        vertical-align: top;\n",
       "    }\n",
       "\n",
       "    .dataframe thead th {\n",
       "        text-align: right;\n",
       "    }\n",
       "</style>\n",
       "<table border=\"1\" class=\"dataframe\">\n",
       "  <thead>\n",
       "    <tr style=\"text-align: right;\">\n",
       "      <th></th>\n",
       "      <th>url</th>\n",
       "      <th>content</th>\n",
       "    </tr>\n",
       "  </thead>\n",
       "  <tbody>\n",
       "    <tr>\n",
       "      <th>0</th>\n",
       "      <td>https://d20.social/@shane/112152933011129501</td>\n",
       "      <td>&lt;p&gt;I discovered Max’s site after looking aroun...</td>\n",
       "    </tr>\n",
       "    <tr>\n",
       "      <th>1</th>\n",
       "      <td>https://mastodonapp.uk/@requiem/11215357139011...</td>\n",
       "      <td>&lt;p&gt;IDEA: Blogging to &lt;a href=\"https://mastodon...</td>\n",
       "    </tr>\n",
       "    <tr>\n",
       "      <th>2</th>\n",
       "      <td>https://wetdry.world/@Nikki_Asdo/1121533828179...</td>\n",
       "      <td>&lt;p&gt;i should talk about my interests instead of...</td>\n",
       "    </tr>\n",
       "    <tr>\n",
       "      <th>3</th>\n",
       "      <td>https://mastodon.social/@alturasolutions/11215...</td>\n",
       "      <td>&lt;p&gt;How to Keep Blogging Real&lt;/p&gt;&lt;p&gt;We live in ...</td>\n",
       "    </tr>\n",
       "    <tr>\n",
       "      <th>4</th>\n",
       "      <td>https://mastodon.world/@paninid/11215334230396...</td>\n",
       "      <td>&lt;p&gt;Yahoo News developing a platform for creato...</td>\n",
       "    </tr>\n",
       "    <tr>\n",
       "      <th>5</th>\n",
       "      <td>https://podcastindex.social/@js/11215341774906...</td>\n",
       "      <td>&lt;p&gt;‘Feedle - A search engine for blogs and pod...</td>\n",
       "    </tr>\n",
       "    <tr>\n",
       "      <th>6</th>\n",
       "      <td>https://mastodon.social/@levelbot/112153103830...</td>\n",
       "      <td>&lt;p&gt;blogging levels are currently at 35% but fl...</td>\n",
       "    </tr>\n",
       "    <tr>\n",
       "      <th>7</th>\n",
       "      <td>https://mastodon.social/@Lafargue/112153017674...</td>\n",
       "      <td>&lt;p&gt;Got a lot of &amp;#39;moral philosophy&amp;#39; / p...</td>\n",
       "    </tr>\n",
       "    <tr>\n",
       "      <th>8</th>\n",
       "      <td>https://social.masto.land/@dave/11215369727290...</td>\n",
       "      <td>&lt;p&gt;Here is the MetaWeblog API, the common glue...</td>\n",
       "    </tr>\n",
       "    <tr>\n",
       "      <th>9</th>\n",
       "      <td>https://wetdry.world/@iagondiscord/11215331079...</td>\n",
       "      <td>&lt;p&gt;also I can't wait to get my own VPS so I ca...</td>\n",
       "    </tr>\n",
       "  </tbody>\n",
       "</table>\n",
       "</div>"
      ],
      "text/plain": [
       "                                                 url  \\\n",
       "0       https://d20.social/@shane/112152933011129501   \n",
       "1  https://mastodonapp.uk/@requiem/11215357139011...   \n",
       "2  https://wetdry.world/@Nikki_Asdo/1121533828179...   \n",
       "3  https://mastodon.social/@alturasolutions/11215...   \n",
       "4  https://mastodon.world/@paninid/11215334230396...   \n",
       "5  https://podcastindex.social/@js/11215341774906...   \n",
       "6  https://mastodon.social/@levelbot/112153103830...   \n",
       "7  https://mastodon.social/@Lafargue/112153017674...   \n",
       "8  https://social.masto.land/@dave/11215369727290...   \n",
       "9  https://wetdry.world/@iagondiscord/11215331079...   \n",
       "\n",
       "                                             content  \n",
       "0  <p>I discovered Max’s site after looking aroun...  \n",
       "1  <p>IDEA: Blogging to <a href=\"https://mastodon...  \n",
       "2  <p>i should talk about my interests instead of...  \n",
       "3  <p>How to Keep Blogging Real</p><p>We live in ...  \n",
       "4  <p>Yahoo News developing a platform for creato...  \n",
       "5  <p>‘Feedle - A search engine for blogs and pod...  \n",
       "6  <p>blogging levels are currently at 35% but fl...  \n",
       "7  <p>Got a lot of &#39;moral philosophy&#39; / p...  \n",
       "8  <p>Here is the MetaWeblog API, the common glue...  \n",
       "9  <p>also I can't wait to get my own VPS so I ca...  "
      ]
     },
     "execution_count": 61,
     "metadata": {},
     "output_type": "execute_result"
    }
   ],
   "source": [
    "embeddings = model.encode([\n",
    "    \"\"\"blogs are the future of the internet\"\"\"\n",
    "])\n",
    "\n",
    "\n",
    "conn = psycopg2.connect(os.environ[\"DATABASE_URL\"])\n",
    "register_vector(conn)\n",
    "\n",
    "cur = conn.cursor()\n",
    "cur.execute(\n",
    "    \"\"\"\n",
    "    SELECT\n",
    "        url, status->>'content'\n",
    "    FROM statuses\n",
    "    WHERE url in (\n",
    "        SELECT url\n",
    "        FROM embeddings\n",
    "        ORDER BY embedding <-> %s\n",
    "        LIMIT 10\n",
    "    )\n",
    "    \"\"\",\n",
    "    (np.array(embeddings[0]),)\n",
    ")\n",
    "rows = cur.fetchall()\n",
    "\n",
    "import pandas as pd\n",
    "pd.DataFrame(rows, columns=(\"url\", \"content\"))"
   ]
  },
  {
   "cell_type": "code",
   "execution_count": null,
   "id": "2e807724-06ad-415c-840d-2ff64ad28943",
   "metadata": {},
   "outputs": [],
   "source": [
    "\n"
   ]
  }
 ],
 "metadata": {
  "kernelspec": {
   "display_name": "Python 3 (ipykernel)",
   "language": "python",
   "name": "python3"
  },
  "language_info": {
   "codemirror_mode": {
    "name": "ipython",
    "version": 3
   },
   "file_extension": ".py",
   "mimetype": "text/x-python",
   "name": "python",
   "nbconvert_exporter": "python",
   "pygments_lexer": "ipython3",
   "version": "3.11.8"
  }
 },
 "nbformat": 4,
 "nbformat_minor": 5
}
